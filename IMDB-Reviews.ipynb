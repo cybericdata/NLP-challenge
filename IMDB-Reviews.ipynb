{
 "cells": [
  {
   "cell_type": "markdown",
   "id": "d065631b-f7f9-4fe4-9cd3-27f0ec3c6491",
   "metadata": {},
   "source": [
    "# NLP Challenge: \n",
    "### IMDB Dataset of 50K Movie Reviews to perform Sentiment analysis"
   ]
  },
  {
   "cell_type": "code",
   "execution_count": 167,
   "id": "1c626174-906b-43a4-8556-4960239e7ec3",
   "metadata": {},
   "outputs": [],
   "source": [
    "import pandas as pd\n",
    "import seaborn as sns\n",
    "import matplotlib.pyplot as plt\n",
    "\n",
    "import re\n",
    "import string\n",
    "\n",
    "from sklearn.model_selection import train_test_split\n",
    "from sklearn.feature_extraction.text import TfidfVectorizer\n",
    "from sklearn.linear_model import LogisticRegression\n",
    "from sklearn.metrics import accuracy_score, classification_report"
   ]
  },
  {
   "cell_type": "code",
   "execution_count": 169,
   "id": "bc506c74-f8f6-4285-9efc-86d7127085a1",
   "metadata": {},
   "outputs": [],
   "source": [
    "df = pd.read_csv(\"./data/IMDB Dataset.csv\")"
   ]
  },
  {
   "cell_type": "markdown",
   "id": "7ac99a3f-cfa3-4389-8280-d3cc82f86d79",
   "metadata": {},
   "source": [
    "> ## Quick analysis of the dataset."
   ]
  },
  {
   "cell_type": "code",
   "execution_count": 172,
   "id": "840d72b7-2ceb-44a2-9fae-8c3d0a33f545",
   "metadata": {},
   "outputs": [
    {
     "data": {
      "text/plain": [
       "Index(['review', 'sentiment'], dtype='object')"
      ]
     },
     "execution_count": 172,
     "metadata": {},
     "output_type": "execute_result"
    }
   ],
   "source": [
    "df.columns"
   ]
  },
  {
   "cell_type": "code",
   "execution_count": 174,
   "id": "dcbb6a87-080c-43e3-b656-08cf7a91f2e7",
   "metadata": {},
   "outputs": [
    {
     "data": {
      "text/plain": [
       "(50000, 2)"
      ]
     },
     "execution_count": 174,
     "metadata": {},
     "output_type": "execute_result"
    }
   ],
   "source": [
    "df.shape"
   ]
  },
  {
   "cell_type": "code",
   "execution_count": 176,
   "id": "c7411b08-ee0a-40cd-8a0b-c1b6f83fb791",
   "metadata": {},
   "outputs": [
    {
     "data": {
      "text/plain": [
       "sentiment\n",
       "positive    25000\n",
       "negative    25000\n",
       "Name: count, dtype: int64"
      ]
     },
     "execution_count": 176,
     "metadata": {},
     "output_type": "execute_result"
    }
   ],
   "source": [
    "df['sentiment'].value_counts()"
   ]
  },
  {
   "cell_type": "code",
   "execution_count": 178,
   "id": "306ecde9-201f-4403-8635-edd6a07743fd",
   "metadata": {},
   "outputs": [
    {
     "data": {
      "text/html": [
       "<div>\n",
       "<style scoped>\n",
       "    .dataframe tbody tr th:only-of-type {\n",
       "        vertical-align: middle;\n",
       "    }\n",
       "\n",
       "    .dataframe tbody tr th {\n",
       "        vertical-align: top;\n",
       "    }\n",
       "\n",
       "    .dataframe thead th {\n",
       "        text-align: right;\n",
       "    }\n",
       "</style>\n",
       "<table border=\"1\" class=\"dataframe\">\n",
       "  <thead>\n",
       "    <tr style=\"text-align: right;\">\n",
       "      <th></th>\n",
       "      <th>review</th>\n",
       "      <th>sentiment</th>\n",
       "    </tr>\n",
       "  </thead>\n",
       "  <tbody>\n",
       "    <tr>\n",
       "      <th>0</th>\n",
       "      <td>One of the other reviewers has mentioned that ...</td>\n",
       "      <td>positive</td>\n",
       "    </tr>\n",
       "    <tr>\n",
       "      <th>1</th>\n",
       "      <td>A wonderful little production. &lt;br /&gt;&lt;br /&gt;The...</td>\n",
       "      <td>positive</td>\n",
       "    </tr>\n",
       "    <tr>\n",
       "      <th>2</th>\n",
       "      <td>I thought this was a wonderful way to spend ti...</td>\n",
       "      <td>positive</td>\n",
       "    </tr>\n",
       "    <tr>\n",
       "      <th>3</th>\n",
       "      <td>Basically there's a family where a little boy ...</td>\n",
       "      <td>negative</td>\n",
       "    </tr>\n",
       "    <tr>\n",
       "      <th>4</th>\n",
       "      <td>Petter Mattei's \"Love in the Time of Money\" is...</td>\n",
       "      <td>positive</td>\n",
       "    </tr>\n",
       "  </tbody>\n",
       "</table>\n",
       "</div>"
      ],
      "text/plain": [
       "                                              review sentiment\n",
       "0  One of the other reviewers has mentioned that ...  positive\n",
       "1  A wonderful little production. <br /><br />The...  positive\n",
       "2  I thought this was a wonderful way to spend ti...  positive\n",
       "3  Basically there's a family where a little boy ...  negative\n",
       "4  Petter Mattei's \"Love in the Time of Money\" is...  positive"
      ]
     },
     "execution_count": 178,
     "metadata": {},
     "output_type": "execute_result"
    }
   ],
   "source": [
    "df.head()"
   ]
  },
  {
   "cell_type": "code",
   "execution_count": 180,
   "id": "a6a241dc-a39d-4b9e-87be-41e61505f1fb",
   "metadata": {},
   "outputs": [
    {
     "data": {
      "text/html": [
       "<div>\n",
       "<style scoped>\n",
       "    .dataframe tbody tr th:only-of-type {\n",
       "        vertical-align: middle;\n",
       "    }\n",
       "\n",
       "    .dataframe tbody tr th {\n",
       "        vertical-align: top;\n",
       "    }\n",
       "\n",
       "    .dataframe thead th {\n",
       "        text-align: right;\n",
       "    }\n",
       "</style>\n",
       "<table border=\"1\" class=\"dataframe\">\n",
       "  <thead>\n",
       "    <tr style=\"text-align: right;\">\n",
       "      <th></th>\n",
       "      <th>review</th>\n",
       "      <th>sentiment</th>\n",
       "    </tr>\n",
       "  </thead>\n",
       "  <tbody>\n",
       "    <tr>\n",
       "      <th>49995</th>\n",
       "      <td>I thought this movie did a down right good job...</td>\n",
       "      <td>positive</td>\n",
       "    </tr>\n",
       "    <tr>\n",
       "      <th>49996</th>\n",
       "      <td>Bad plot, bad dialogue, bad acting, idiotic di...</td>\n",
       "      <td>negative</td>\n",
       "    </tr>\n",
       "    <tr>\n",
       "      <th>49997</th>\n",
       "      <td>I am a Catholic taught in parochial elementary...</td>\n",
       "      <td>negative</td>\n",
       "    </tr>\n",
       "    <tr>\n",
       "      <th>49998</th>\n",
       "      <td>I'm going to have to disagree with the previou...</td>\n",
       "      <td>negative</td>\n",
       "    </tr>\n",
       "    <tr>\n",
       "      <th>49999</th>\n",
       "      <td>No one expects the Star Trek movies to be high...</td>\n",
       "      <td>negative</td>\n",
       "    </tr>\n",
       "  </tbody>\n",
       "</table>\n",
       "</div>"
      ],
      "text/plain": [
       "                                                  review sentiment\n",
       "49995  I thought this movie did a down right good job...  positive\n",
       "49996  Bad plot, bad dialogue, bad acting, idiotic di...  negative\n",
       "49997  I am a Catholic taught in parochial elementary...  negative\n",
       "49998  I'm going to have to disagree with the previou...  negative\n",
       "49999  No one expects the Star Trek movies to be high...  negative"
      ]
     },
     "execution_count": 180,
     "metadata": {},
     "output_type": "execute_result"
    }
   ],
   "source": [
    "df.tail()"
   ]
  },
  {
   "cell_type": "code",
   "execution_count": 182,
   "id": "0474fb1b-c6fb-44a7-8b2f-93854fa99d1a",
   "metadata": {},
   "outputs": [
    {
     "data": {
      "text/plain": [
       "<Axes: xlabel='sentiment', ylabel='count'>"
      ]
     },
     "execution_count": 182,
     "metadata": {},
     "output_type": "execute_result"
    },
    {
     "data": {
      "image/png": "[encoded data removed]",
      "text/plain": [
       "<Figure size 640x480 with 1 Axes>"
      ]
     },
     "metadata": {},
     "output_type": "display_data"
    }
   ],
   "source": [
    "sns.countplot(x=\"sentiment\", data=df)          "
   ]
  },
  {
   "cell_type": "markdown",
   "id": "3a46aa2a-086e-4342-a18e-ead8d9bb370d",
   "metadata": {},
   "source": [
    "> ## Processing the dataset for improved quality"
   ]
  },
  {
   "cell_type": "code",
   "execution_count": 185,
   "id": "5755e868-e609-4f04-9902-db1109ade030",
   "metadata": {},
   "outputs": [],
   "source": [
    "def clean_text_for_symbols(text):\n",
    "    text = text.lower()\n",
    "    text = re.sub(r'\\[.*?\\]', '', text)  # Remove text within square brackets\n",
    "    text = re.sub(r'[%s]' % re.escape(string.punctuation), '', text)  # Remove punctuation\n",
    "    text = re.sub(r'\\w*\\d\\w*', '', text)  # Remove words containing digits\n",
    "    return text\n",
    "\n",
    "# Compile regex pattern for efficiency if used frequently\n",
    "HTML_TAG_PATTERN = re.compile(r'<.*?>')\n",
    "\n",
    "def clean_html_tag(text):\n",
    "    return re.sub(HTML_TAG_PATTERN, '', text)\n",
    "\n",
    "def clean_text_for_special_char(text):\n",
    "    # Remove specific characters\n",
    "    text = re.sub(r'[\"\\',\\[\\]]', '', text)  \n",
    "    # Remove newline characters\n",
    "    text = text.replace('\\n', '')  \n",
    "    return text\n",
    "\n",
    "# Lambda for applying the clean_text_for_symbols function\n",
    "cleaned_html_text=lambda x:clean_html_tag(x)\n",
    "cleaned_for_symbols = lambda x: clean_text_for_symbols(x)\n",
    "cleaned_for_special_char = lambda x: clean_text_for_special_char(x)\n",
    "\n",
    "df['review']=pd.DataFrame(df.review.apply(cleaned_html_text))\n",
    "df['review']=pd.DataFrame(df.review.apply(cleaned_for_symbols))\n",
    "df['review']=pd.DataFrame(df.review.apply(cleaned_for_special_char))"
   ]
  },
  {
   "cell_type": "code",
   "execution_count": 186,
   "id": "0a97c02e-d748-4701-9959-290b6baf6305",
   "metadata": {},
   "outputs": [
    {
     "data": {
      "text/html": [
       "<div>\n",
       "<style scoped>\n",
       "    .dataframe tbody tr th:only-of-type {\n",
       "        vertical-align: middle;\n",
       "    }\n",
       "\n",
       "    .dataframe tbody tr th {\n",
       "        vertical-align: top;\n",
       "    }\n",
       "\n",
       "    .dataframe thead th {\n",
       "        text-align: right;\n",
       "    }\n",
       "</style>\n",
       "<table border=\"1\" class=\"dataframe\">\n",
       "  <thead>\n",
       "    <tr style=\"text-align: right;\">\n",
       "      <th></th>\n",
       "      <th>review</th>\n",
       "      <th>sentiment</th>\n",
       "    </tr>\n",
       "  </thead>\n",
       "  <tbody>\n",
       "    <tr>\n",
       "      <th>0</th>\n",
       "      <td>one of the other reviewers has mentioned that ...</td>\n",
       "      <td>positive</td>\n",
       "    </tr>\n",
       "    <tr>\n",
       "      <th>1</th>\n",
       "      <td>a wonderful little production the filming tech...</td>\n",
       "      <td>positive</td>\n",
       "    </tr>\n",
       "    <tr>\n",
       "      <th>2</th>\n",
       "      <td>i thought this was a wonderful way to spend ti...</td>\n",
       "      <td>positive</td>\n",
       "    </tr>\n",
       "    <tr>\n",
       "      <th>3</th>\n",
       "      <td>basically theres a family where a little boy j...</td>\n",
       "      <td>negative</td>\n",
       "    </tr>\n",
       "    <tr>\n",
       "      <th>4</th>\n",
       "      <td>petter matteis love in the time of money is a ...</td>\n",
       "      <td>positive</td>\n",
       "    </tr>\n",
       "    <tr>\n",
       "      <th>5</th>\n",
       "      <td>probably my alltime favorite movie a story of ...</td>\n",
       "      <td>positive</td>\n",
       "    </tr>\n",
       "    <tr>\n",
       "      <th>6</th>\n",
       "      <td>i sure would like to see a resurrection of a u...</td>\n",
       "      <td>positive</td>\n",
       "    </tr>\n",
       "    <tr>\n",
       "      <th>7</th>\n",
       "      <td>this show was an amazing fresh  innovative ide...</td>\n",
       "      <td>negative</td>\n",
       "    </tr>\n",
       "    <tr>\n",
       "      <th>8</th>\n",
       "      <td>encouraged by the positive comments about this...</td>\n",
       "      <td>negative</td>\n",
       "    </tr>\n",
       "    <tr>\n",
       "      <th>9</th>\n",
       "      <td>if you like original gut wrenching laughter yo...</td>\n",
       "      <td>positive</td>\n",
       "    </tr>\n",
       "  </tbody>\n",
       "</table>\n",
       "</div>"
      ],
      "text/plain": [
       "                                              review sentiment\n",
       "0  one of the other reviewers has mentioned that ...  positive\n",
       "1  a wonderful little production the filming tech...  positive\n",
       "2  i thought this was a wonderful way to spend ti...  positive\n",
       "3  basically theres a family where a little boy j...  negative\n",
       "4  petter matteis love in the time of money is a ...  positive\n",
       "5  probably my alltime favorite movie a story of ...  positive\n",
       "6  i sure would like to see a resurrection of a u...  positive\n",
       "7  this show was an amazing fresh  innovative ide...  negative\n",
       "8  encouraged by the positive comments about this...  negative\n",
       "9  if you like original gut wrenching laughter yo...  positive"
      ]
     },
     "execution_count": 186,
     "metadata": {},
     "output_type": "execute_result"
    }
   ],
   "source": [
    "df.head(10)"
   ]
  },
  {
   "cell_type": "markdown",
   "id": "81d57771-abd8-4524-b4a8-f2c9343dd6dc",
   "metadata": {},
   "source": [
    "> ## Using Logistic Regression for classification"
   ]
  },
  {
   "cell_type": "code",
   "execution_count": 190,
   "id": "2232c11f-28b0-41af-9dd5-96b5fb337a73",
   "metadata": {},
   "outputs": [],
   "source": [
    "# Convert sentiment to binary labels\n",
    "df['sentiment'] = df['sentiment'].map({'positive': 1, 'negative': 0})"
   ]
  },
  {
   "cell_type": "code",
   "execution_count": 192,
   "id": "51c9ce80-6f81-436c-807d-c74b68c4116a",
   "metadata": {},
   "outputs": [],
   "source": [
    "# Split data\n",
    "x = df['review']\n",
    "y = df['sentiment']\n",
    "x_train, x_test, y_train, y_test = train_test_split(x, y, test_size=0.4, random_state=42)"
   ]
  },
  {
   "cell_type": "markdown",
   "id": "4aceecbb-43af-4a0d-9ac2-fccd075d9e7f",
   "metadata": {},
   "source": [
    "#### Convert text to numerical values"
   ]
  },
  {
   "cell_type": "code",
   "execution_count": 195,
   "id": "53165c68-b6f7-46b4-be7c-e0d9e7da1734",
   "metadata": {},
   "outputs": [],
   "source": [
    "# Initialize TF-IDF (Term Frequency-Inverse Document Frequency) vectorizer\n",
    "tfidf = TfidfVectorizer(max_features=20000, ngram_range=(1, 2))\n",
    "\n",
    "# Fit and transform text data\n",
    "x_train_tfidf = tfidf.fit_transform(x_train)\n",
    "x_test_tfidf = tfidf.transform(x_test)"
   ]
  },
  {
   "cell_type": "markdown",
   "id": "baeb95cb-23de-48ad-b31a-df1e54447e9d",
   "metadata": {},
   "source": [
    "#### Train the Logistic regression with the model"
   ]
  },
  {
   "cell_type": "code",
   "execution_count": 197,
   "id": "d4769b83-adcb-4b11-81e2-c28283209729",
   "metadata": {},
   "outputs": [
    {
     "name": "stdout",
     "output_type": "stream",
     "text": [
      "[0 1 0 ... 1 1 1]\n"
     ]
    }
   ],
   "source": [
    "# Initialize Logistic Regression model\n",
    "lr_model = LogisticRegression(max_iter=1000, random_state=42)\n",
    "\n",
    "# Train the model\n",
    "lr_model.fit(x_train_tfidf, y_train)\n",
    "\n",
    "# Make predictions\n",
    "y_pred = lr_model.predict(x_test_tfidf)\n",
    "\n",
    "print(y_pred)"
   ]
  },
  {
   "cell_type": "markdown",
   "id": "838f96cf-54c9-474d-9ce0-ade0ea941221",
   "metadata": {},
   "source": [
    "#### Evaluate the model performance"
   ]
  },
  {
   "cell_type": "code",
   "execution_count": 201,
   "id": "34e45bfc-e9d5-4378-952a-097a68a22e8a",
   "metadata": {},
   "outputs": [
    {
     "name": "stdout",
     "output_type": "stream",
     "text": [
      "Model Accuracy: 89.79%\n"
     ]
    }
   ],
   "source": [
    "# Evaluate model\n",
    "accuracy = accuracy_score(y_test, y_pred)\n",
    "print(f\"Model Accuracy: {accuracy * 100:.2f}%\")\n",
    "\n"
   ]
  },
  {
   "cell_type": "code",
   "execution_count": 203,
   "id": "169ae4b1-dffc-4c55-859e-b3735061dabb",
   "metadata": {},
   "outputs": [
    {
     "name": "stdout",
     "output_type": "stream",
     "text": [
      "              precision    recall  f1-score   support\n",
      "\n",
      "           0       0.91      0.89      0.90      9989\n",
      "           1       0.89      0.91      0.90     10011\n",
      "\n",
      "    accuracy                           0.90     20000\n",
      "   macro avg       0.90      0.90      0.90     20000\n",
      "weighted avg       0.90      0.90      0.90     20000\n",
      "\n"
     ]
    }
   ],
   "source": [
    "# Classification report\n",
    "print(classification_report(y_test, y_pred))"
   ]
  },
  {
   "cell_type": "markdown",
   "id": "215374d9-79b6-408f-a8ec-181864c34bfd",
   "metadata": {},
   "source": [
    "#### Using the predictions to count the positive and negative reviews"
   ]
  },
  {
   "cell_type": "code",
   "execution_count": 206,
   "id": "b968bd2e-f212-483e-a860-142b15dfc09e",
   "metadata": {},
   "outputs": [
    {
     "name": "stdout",
     "output_type": "stream",
     "text": [
      "Positive Reviews: 10245\n",
      "Negative Reviews: 9755\n"
     ]
    }
   ],
   "source": [
    "# Count positive and negative reviews\n",
    "positive_reviews = (y_pred == 1).sum()\n",
    "negative_reviews = (y_pred == 0).sum()\n",
    "\n",
    "print(f\"Positive Reviews: {positive_reviews}\")\n",
    "print(f\"Negative Reviews: {negative_reviews}\")\n"
   ]
  }
 ],
 "metadata": {
  "kernelspec": {
   "display_name": "Python 3 (ipykernel)",
   "language": "python",
   "name": "python3"
  },
  "language_info": {
   "codemirror_mode": {
    "name": "ipython",
    "version": 3
   },
   "file_extension": ".py",
   "mimetype": "text/x-python",
   "name": "python",
   "nbconvert_exporter": "python",
   "pygments_lexer": "ipython3",
   "version": "3.11.7"
  }
 },
 "nbformat": 4,
 "nbformat_minor": 5
}
